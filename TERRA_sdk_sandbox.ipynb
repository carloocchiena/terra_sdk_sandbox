{
  "nbformat": 4,
  "nbformat_minor": 0,
  "metadata": {
    "colab": {
      "name": "TERRA_sdk_sandbox.ipynb",
      "provenance": []
    },
    "kernelspec": {
      "name": "python3",
      "display_name": "Python 3"
    },
    "language_info": {
      "name": "python"
    }
  },
  "cells": [
    {
      "cell_type": "code",
      "execution_count": null,
      "metadata": {
        "id": "VrzviQLyeTfY"
      },
      "outputs": [],
      "source": [
        "# install the SDK\n",
        "!pip install terra_sdk"
      ]
    },
    {
      "cell_type": "code",
      "source": [
        "# import the modules \n",
        "import json\n",
        "import asyncio\n",
        "from terra_sdk.client.lcd import AsyncLCDClient\n",
        "from terra_sdk.client.lcd import LCDClient\n",
        "from terra_sdk.key.mnemonic import MnemonicKey\n",
        "from terra_sdk.core.auth import StdFee\n",
        "from terra_sdk.core.bank import MsgSend\n",
        "from terra_sdk.client.lcd import LCDClient\n",
        "from terra_sdk.core.auth import StdSignMsg\n",
        "from terra_sdk.core.bank import MsgSend\n",
        "from terra_sdk.key.mnemonic import MnemonicKey"
      ],
      "metadata": {
        "id": "yD3PJ78nhPuL"
      },
      "execution_count": null,
      "outputs": []
    },
    {
      "cell_type": "code",
      "source": [
        "# print the chain \n",
        "terra = LCDClient(chain_id=\"columbus-4\", url=\"https://lcd.terra.dev\")\n",
        "print(terra.tendermint.node_info())"
      ],
      "metadata": {
        "id": "VxVNzX-UeWSZ"
      },
      "execution_count": null,
      "outputs": []
    },
    {
      "cell_type": "code",
      "source": [
        "# handle the JSON import and viz it\n",
        "json_output = json.dumps(terra.tendermint.node_info(), indent = 4)\n",
        "print(json_output)"
      ],
      "metadata": {
        "id": "tVYa_x1WhWWm"
      },
      "execution_count": null,
      "outputs": []
    },
    {
      "cell_type": "code",
      "source": [
        "# find the last valid block\n",
        "terra.tendermint.block_info()['block']['header']['height']"
      ],
      "metadata": {
        "id": "-DPl8mkxesqh"
      },
      "execution_count": null,
      "outputs": []
    },
    {
      "cell_type": "code",
      "source": [
        "# create a wallet (no security key used!)\n",
        "\n",
        "MNEMONIC = \"1234546\"\n",
        "RECIPIENT = \"123456\" # replace with real terra address; atm it returns invalid address (of course!)\n",
        "\n",
        "mk = MnemonicKey(mnemonic=MNEMONIC)\n",
        "terra = LCDClient(\"https://lcd.terra.dev\", \"columbus-4\")\n",
        "wallet = terra.wallet(mk)"
      ],
      "metadata": {
        "id": "pzfBGzBvf0Xb"
      },
      "execution_count": null,
      "outputs": []
    },
    {
      "cell_type": "code",
      "source": [
        "# manual signature (needed since atm I have to real wallet addres to point to)\n",
        "# according to documentation this kind of process do not use the obj Wallet\n",
        "\n",
        "terra = LCDClient(\"https://lcd.terra.dev\", \"columbus-4\")\n",
        "mk = MnemonicKey(mnemonic=MNEMONIC)\n",
        "\n",
        "# create tx\n",
        "unsigned_tx = StdSignMsg(\n",
        "    chain_id=\"columbus-4\",\n",
        "    account_number=23982,\n",
        "    sequence=12,\n",
        "    fee=StdFee(200000, \"120000uluna\"),\n",
        "    msgs=[MsgSend(\n",
        "        mk.acc_address,\n",
        "        RECIPIENT,\n",
        "        \"1000000uluna\" # send 1 luna\n",
        "    )],\n",
        "    memo=\"test transaction!\"\n",
        ")\n",
        "\n",
        "# get signature\n",
        "sig = mk.create_signature(unsigned_tx)\n",
        "\n",
        "# prepopulate stdtx with details\n",
        "tx = unsigned_tx.to_stdtx()\n",
        "\n",
        "# apply signature\n",
        "tx.signature = [sig]\n",
        "\n",
        "# broadcast tx\n",
        "result = terra.tx.broadcast(tx)\n",
        "print(result)"
      ],
      "metadata": {
        "id": "L5YDuCzYgC3i"
      },
      "execution_count": null,
      "outputs": []
    },
    {
      "cell_type": "code",
      "source": [
        "# confirm is a transaction from terra:\n",
        "\n",
        "type(result)"
      ],
      "metadata": {
        "collapsed": true,
        "id": "hrxUzhjdivIr"
      },
      "execution_count": null,
      "outputs": []
    },
    {
      "cell_type": "code",
      "source": [
        ""
      ],
      "metadata": {
        "id": "3XFviJ4skaT6"
      },
      "execution_count": null,
      "outputs": []
    }
  ]
}